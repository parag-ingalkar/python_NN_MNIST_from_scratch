{
 "cells": [
  {
   "cell_type": "markdown",
   "id": "9d11045f-2011-42c7-b3db-feaf245eccb4",
   "metadata": {},
   "source": [
    "# Neural Network to train MNIST dataset in PyTorch"
   ]
  },
  {
   "cell_type": "markdown",
   "id": "753f10f9-9e37-4eee-8820-fc0b8d64da85",
   "metadata": {},
   "source": [
    "### Import required packages"
   ]
  },
  {
   "cell_type": "code",
   "execution_count": 3,
   "id": "bd0d3ca3-37ae-477e-a4d0-16d217fd8d45",
   "metadata": {},
   "outputs": [],
   "source": [
    "import random\n",
    "import numpy as np\n",
    "import torch\n",
    "import torch.nn as nn\n",
    "import torch.optim as optim\n",
    "from torchvision import datasets, transforms\n",
    "from torch.utils.data import DataLoader\n",
    "import matplotlib.pyplot as plt"
   ]
  },
  {
   "cell_type": "markdown",
   "id": "5d5a4153-cf56-449c-9935-c8bff98762fa",
   "metadata": {},
   "source": [
    "#### 3 ways to load MNIST Dataset"
   ]
  },
  {
   "cell_type": "markdown",
   "id": "2ebb6e8e-d12b-4c5a-ac5d-d538e902e569",
   "metadata": {},
   "source": [
    "1. Using torchvision.datasets.MNIST DataLoader num_workers = default (0)"
   ]
  },
  {
   "cell_type": "code",
   "execution_count": 30,
   "id": "242ea4f5-da6f-4289-84ab-8548c30b67fe",
   "metadata": {},
   "outputs": [],
   "source": [
    "# Transform (normalize to [0,1])\n",
    "transform = transforms.ToTensor()\n",
    "\n",
    "# Load MNIST data\n",
    "train_dataset = datasets.MNIST(root='./data', train=True, download=True, transform=transform)\n",
    "test_dataset  = datasets.MNIST(root='./data', train=False, download=True, transform=transform)\n",
    "\n",
    "train_loader = DataLoader(train_dataset, batch_size=64)\n",
    "test_loader  = DataLoader(test_dataset, batch_size=64)"
   ]
  },
  {
   "cell_type": "markdown",
   "id": "f1e1e21f-5b4b-427a-8969-e2778871b0da",
   "metadata": {},
   "source": [
    "2. Using torchvision.datasets.MNIST DataLoader num_workers = 2"
   ]
  },
  {
   "cell_type": "code",
   "execution_count": 35,
   "id": "6c18d418-e9ff-4a80-b677-4cea22b170eb",
   "metadata": {},
   "outputs": [],
   "source": [
    "# Transform (normalize to [0,1])\n",
    "transform = transforms.ToTensor()\n",
    "\n",
    "# Load MNIST data\n",
    "train_dataset = datasets.MNIST(root='./data', train=True, download=True, transform=transform)\n",
    "test_dataset  = datasets.MNIST(root='./data', train=False, download=True, transform=transform)\n",
    "\n",
    "train_loader = DataLoader(train_dataset, batch_size=64, num_workers=2)\n",
    "test_loader  = DataLoader(test_dataset, batch_size=64, num_workers=2)"
   ]
  },
  {
   "cell_type": "markdown",
   "id": "b18e406a-f72a-4e57-a894-c1aaa7823641",
   "metadata": {},
   "source": [
    "3. Preloading images in tensors"
   ]
  },
  {
   "cell_type": "code",
   "execution_count": 40,
   "id": "15e0b307-863e-4210-b974-f2c2c10431e9",
   "metadata": {},
   "outputs": [],
   "source": [
    "import idx2numpy\n",
    "from torch.utils.data import TensorDataset\n",
    "\n",
    "# Path to dataset files\n",
    "rel_path_train_images = 'data/MNIST/raw/train-images-idx3-ubyte'\n",
    "rel_path_train_labels = 'data/MNIST/raw/train-labels-idx1-ubyte'\n",
    "rel_path_test_images = 'data/MNIST/raw/t10k-images-idx3-ubyte'\n",
    "rel_path_test_labels = 'data/MNIST/raw/t10k-labels-idx1-ubyte'\n",
    "\n",
    "# Converting to numpy array\n",
    "train_images = idx2numpy.convert_from_file(rel_path_train_images)\n",
    "X_train = train_images.reshape((60000, 28, 28))    \n",
    "X_train = X_train / 255\n",
    "\n",
    "Y_train = idx2numpy.convert_from_file(rel_path_train_labels)\n",
    "\n",
    "test_images = idx2numpy.convert_from_file(rel_path_test_images)\n",
    "X_test = test_images.reshape((10000, 28, 28))    \n",
    "X_test = X_test / 255\n",
    "\n",
    "Y_test = idx2numpy.convert_from_file(rel_path_test_labels)\n",
    "\n",
    "# Loading torch.tensor in train_loader and test_loader\n",
    "X_train = torch.tensor(X_train, dtype=torch.float32)  # shape: (60000, 28, 28)\n",
    "Y_train = torch.tensor(Y_train, dtype=torch.long)     # shape: (60000,)\n",
    "X_train = X_train.unsqueeze(1)\n",
    "train_dataset = TensorDataset(X_train, Y_train)\n",
    "train_loader = DataLoader(train_dataset, batch_size = 64, shuffle = True)\n",
    "\n",
    "X_test = torch.tensor(X_test, dtype=torch.float32)  # shape: (60000, 28, 28)\n",
    "Y_test = torch.tensor(Y_test, dtype=torch.long)\n",
    "X_test = X_test.unsqueeze(1)\n",
    "test_dataset = TensorDataset(X_test, Y_test)\n",
    "test_loader = DataLoader(test_dataset, batch_size = 64)"
   ]
  },
  {
   "cell_type": "code",
   "execution_count": 41,
   "id": "117cd3fc-c67b-4d31-aedb-fdbed9f63332",
   "metadata": {},
   "outputs": [
    {
     "name": "stdout",
     "output_type": "stream",
     "text": [
      "torch.Size([64, 1, 28, 28])\n",
      "64\n",
      "torch.Size([64])\n",
      "64\n"
     ]
    },
    {
     "data": {
      "image/png": "[encoded data removed]",
      "text/plain": [
       "<Figure size 640x480 with 6 Axes>"
      ]
     },
     "metadata": {},
     "output_type": "display_data"
    }
   ],
   "source": [
    "for images, labels in train_loader:\n",
    "    print(images.shape)\n",
    "    print(len(images))\n",
    "    print(labels.shape)\n",
    "    print(len(labels))\n",
    "    for i in range(6):\n",
    "        plt.subplot(3, 3, 1 + i)\n",
    "        plt.tight_layout()\n",
    "        plt.imshow(images[i].reshape((28,28)), cmap=plt.get_cmap('gray'))\n",
    "        plt.title(f'Ground Truth: {labels[i]}')\n",
    "        plt.xticks([])\n",
    "        plt.yticks([])\n",
    "    plt.show()\n",
    "    break"
   ]
  },
  {
   "cell_type": "markdown",
   "id": "8585cdb1-b83d-4e87-9b42-5c32f8f296c1",
   "metadata": {},
   "source": [
    "#### Define the Neural Network"
   ]
  },
  {
   "cell_type": "code",
   "execution_count": 42,
   "id": "dcc5fac7-b400-46a0-ad02-eea5f139da5c",
   "metadata": {},
   "outputs": [],
   "source": [
    "class MNISTModel(nn.Module):\n",
    "    def __init__(self):\n",
    "        super(MNISTModel, self).__init__()\n",
    "        self.model = nn.Sequential(\n",
    "            nn.Flatten(),                  # (28x28) → (784)\n",
    "            nn.Linear(784, 128),\n",
    "            nn.ReLU(),\n",
    "            # nn.Linear(64, 32),\n",
    "            # nn.ReLU(),\n",
    "            nn.Linear(128, 10)             # No Softmax here (CrossEntropyLoss handles it)\n",
    "        )\n",
    "    \n",
    "    def forward(self, x):\n",
    "        return self.model(x)\n",
    "\n",
    "model = MNISTModel()\n",
    "loss_func = nn.CrossEntropyLoss()\n",
    "optimizer = optim.SGD(model.parameters(), lr=0.01)"
   ]
  },
  {
   "cell_type": "markdown",
   "id": "96f78ccd-9a28-426a-9d28-3eca0843b273",
   "metadata": {},
   "source": [
    "#### Training your model"
   ]
  },
  {
   "cell_type": "code",
   "execution_count": 43,
   "id": "e7df5128-73e8-43ff-9862-ef71c08c299d",
   "metadata": {},
   "outputs": [
    {
     "name": "stdout",
     "output_type": "stream",
     "text": [
      "Epoch 1/10, Loss: 1.2514, Accuracy: 73.90%\n",
      "Epoch 2/10, Loss: 0.4977, Accuracy: 87.50%\n",
      "Epoch 3/10, Loss: 0.3951, Accuracy: 89.25%\n",
      "Epoch 4/10, Loss: 0.3546, Accuracy: 90.08%\n",
      "Epoch 5/10, Loss: 0.3302, Accuracy: 90.71%\n",
      "Epoch 6/10, Loss: 0.3128, Accuracy: 91.17%\n",
      "Epoch 7/10, Loss: 0.2987, Accuracy: 91.63%\n",
      "Epoch 8/10, Loss: 0.2867, Accuracy: 91.94%\n",
      "Epoch 9/10, Loss: 0.2756, Accuracy: 92.26%\n",
      "Epoch 10/10, Loss: 0.2657, Accuracy: 92.52%\n",
      "\n",
      "Total training time: 12.67 seconds\n"
     ]
    }
   ],
   "source": [
    "import time\n",
    "\n",
    "epochs = 10\n",
    "start_time = time.time()\n",
    "\n",
    "for epoch in range(epochs):\n",
    "    model.train()\n",
    "    running_loss = 0.0\n",
    "    correct = 0\n",
    "    total = 0\n",
    "\n",
    "    for images, labels in train_loader:\n",
    "        outputs = model(images)\n",
    "        loss = loss_func(outputs, labels)\n",
    "\n",
    "        optimizer.zero_grad()\n",
    "        loss.backward()\n",
    "        optimizer.step()\n",
    "\n",
    "        running_loss += loss.item() * images.size(0)\n",
    "        _, predicted = torch.max(outputs, 1)\n",
    "        total += labels.size(0)\n",
    "        correct += (predicted == labels).sum().item()\n",
    "\n",
    "    epoch_loss = running_loss / total\n",
    "    accuracy = correct / total * 100\n",
    "    print(f\"Epoch {epoch+1}/{epochs}, Loss: {epoch_loss:.4f}, Accuracy: {accuracy:.2f}%\")\n",
    "\n",
    "end_time = time.time()\n",
    "elapsed_time = end_time - start_time\n",
    "\n",
    "print(f\"\\nTotal training time: {elapsed_time:.2f} seconds\")\n"
   ]
  },
  {
   "cell_type": "markdown",
   "id": "c48c6484-8d45-4bf6-bfff-a2186fe718b3",
   "metadata": {},
   "source": [
    "#### Evaluate model on test data"
   ]
  },
  {
   "cell_type": "code",
   "execution_count": 44,
   "id": "2a0403b8-f406-4b94-8b30-958745fa8da9",
   "metadata": {},
   "outputs": [
    {
     "name": "stdout",
     "output_type": "stream",
     "text": [
      "Test Accuracy: 93.03%\n"
     ]
    }
   ],
   "source": [
    "model.eval()\n",
    "correct = 0\n",
    "total = 0\n",
    "\n",
    "with torch.no_grad():\n",
    "    for images, labels in test_loader:\n",
    "        outputs = model(images)\n",
    "        _, predicted = torch.max(outputs, 1)\n",
    "        total += labels.size(0)\n",
    "        correct += (predicted == labels).sum().item()\n",
    "\n",
    "print(f\"Test Accuracy: {correct / total * 100:.2f}%\")"
   ]
  },
  {
   "cell_type": "markdown",
   "id": "8d4f5edd-c575-4ce8-9608-24869f8c27ac",
   "metadata": {},
   "source": [
    "#### Comparison\n",
    "(After 10 epochs)\n",
    "\n",
    "1. Using Datasets.MNIST (num_workers = 0)\n",
    "     - Training time = 79.05 secs \n",
    "     - Train accuracy = 95.62 %\n",
    "     - Test accuracy = 95.32 %\n",
    "2. Using Datasets.MNIST (num_workers = 2)\n",
    "     - Training time = 89.73 secs\n",
    "     - Train accuracy = 95.70 %\n",
    "     - Test accuracy = 95.16 %\n",
    "3. Using Preloaded Tensors\n",
    "     - Training time = 20.74 secs\n",
    "     - Train accuracy = 95.54 %\n",
    "     - Test accuracy = 95.23 %"
   ]
  },
  {
   "cell_type": "markdown",
   "id": "9bb00b27-a16c-41c3-a213-68ffa4faa26a",
   "metadata": {},
   "source": []
  }
 ],
 "metadata": {
  "kernelspec": {
   "display_name": "ML Python 3.12",
   "language": "python",
   "name": "venvml2"
  },
  "language_info": {
   "codemirror_mode": {
    "name": "ipython",
    "version": 3
   },
   "file_extension": ".py",
   "mimetype": "text/x-python",
   "name": "python",
   "nbconvert_exporter": "python",
   "pygments_lexer": "ipython3",
   "version": "3.12.10"
  }
 },
 "nbformat": 4,
 "nbformat_minor": 5
}
